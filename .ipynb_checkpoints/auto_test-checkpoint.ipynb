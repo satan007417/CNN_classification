{
 "cells": [
  {
   "cell_type": "code",
   "execution_count": 9,
   "id": "c8bf716c",
   "metadata": {},
   "outputs": [
    {
     "data": {
      "text/plain": [
       "['D:\\\\List\\\\PK3078\\\\AO2201F\\\\onnx_test\\\\P']"
      ]
     },
     "execution_count": 9,
     "metadata": {},
     "output_type": "execute_result"
    }
   ],
   "source": [
    "src = [r'D:\\List\\PK3078\\AO2201F\\onnx_test\\P',\n",
    "       \n",
    "      ]\n",
    "src"
   ]
  },
  {
   "cell_type": "code",
   "execution_count": 10,
   "id": "a578ba91",
   "metadata": {
    "scrolled": true
   },
   "outputs": [
    {
     "name": "stdout",
     "output_type": "stream",
     "text": [
      "('batch_size', 16)\n",
      "('device_mem', 0.99)\n",
      "('early_stop', 100)\n",
      "('epochs', 1000)\n",
      "('folderlist', 'D:\\\\List\\\\PK3078\\\\AO2201F\\\\onnx_test\\\\P')\n",
      "('img_folder', '\\\\\\\\10.80.100.13\\\\d\\\\BackendAOI\\\\Data\\\\PassNg_Images\\\\22_XML-282\\\\1_chipping')\n",
      "('img_newsize', 400)\n",
      "('lr', 0.001)\n",
      "('lrf', 0.2)\n",
      "('mode', 'test')\n",
      "('momentum', 0.925)\n",
      "('num_classes', 2)\n",
      "('output_name', 'classifier')\n",
      "('output_root', 'D:\\\\BackendAOI\\\\Python\\\\cnn\\\\save_model\\\\XML-282_chipping')\n",
      "('over_sampling_scale', 2)\n",
      "('over_sampling_thresh', 1000)\n",
      "('test_weight', 'D:\\\\List\\\\PK3078\\\\AO2201F\\\\classifier\\\\best.pt')\n",
      "('valid_keep', 0.15)\n",
      "('warmup_bias_lr', 0.1)\n",
      "('warmup_epochs', 3)\n",
      "('warmup_momentum', 0.8)\n",
      "('weight_decay', 0.0004)\n",
      "('weights', '')\n",
      "('workers', 2)\n",
      "\n",
      "[freeze] layer, 0, Conv2d\n",
      "[freeze] layer, 1, BatchNorm2d\n",
      "[freeze] layer, 2, ReLU\n",
      "[freeze] layer, 3, MaxPool2d\n",
      "layer, 4, Sequential, BasicBlock\n",
      "layer, 4, Sequential, BasicBlock\n",
      "layer, 4, Sequential, BasicBlock\n",
      "layer, 4, Sequential, BasicBlock\n",
      "layer, 4, Sequential, BasicBlock\n",
      "layer, 4, Sequential, BasicBlock\n",
      "layer, 4, Sequential, BasicBlock\n",
      "layer, 4, Sequential, BasicBlock\n",
      "layer, 4, Sequential, BasicBlock\n",
      "layer, 4, Sequential, BasicBlock\n",
      "layer, 4, Sequential, BasicBlock\n",
      "layer, 4, Sequential, BasicBlock\n",
      "layer, 4, Sequential, BasicBlock\n",
      "layer, 4, Sequential, BasicBlock\n",
      "layer, 4, Sequential, BasicBlock\n",
      "layer, 4, Sequential, BasicBlock\n",
      "layer, 4, AdaptiveAvgPool2d, BasicBlock\n",
      "layer, 4, Sequential, Linear\n",
      "\n",
      "\n",
      "[0/20] inference outputs = tensor([[ 2.39153, -2.37716]]), pred = 0, path = D:\\List\\PK3078\\AO2201F\\onnx_test\\P\\1.99259_-1.97068.jpg\n",
      "[1/20] inference outputs = tensor([[ 2.14393, -2.15797]]), pred = 0, path = D:\\List\\PK3078\\AO2201F\\onnx_test\\P\\1.81214_-1.82667.jpg\n",
      "[2/20] inference outputs = tensor([[ 0.73660, -0.75615]]), pred = 0, path = D:\\List\\PK3078\\AO2201F\\onnx_test\\P\\0.29786_-0.32329.jpg\n",
      "[3/20] inference outputs = tensor([[ 1.44920, -1.40557]]), pred = 0, path = D:\\List\\PK3078\\AO2201F\\onnx_test\\P\\0.48571_-0.42160.jpg\n",
      "[4/20] inference outputs = tensor([[ 0.64246, -0.68884]]), pred = 0, path = D:\\List\\PK3078\\AO2201F\\onnx_test\\P\\0.34214_-0.38906.jpg\n",
      "[5/20] inference outputs = tensor([[ 2.21507, -2.22443]]), pred = 0, path = D:\\List\\PK3078\\AO2201F\\onnx_test\\P\\1.76184_-1.75030.jpg\n",
      "[6/20] inference outputs = tensor([[ 1.96451, -1.97165]]), pred = 0, path = D:\\List\\PK3078\\AO2201F\\onnx_test\\P\\1.77151_-1.78643.jpg\n",
      "[7/20] inference outputs = tensor([[ 0.91727, -0.94702]]), pred = 0, path = D:\\List\\PK3078\\AO2201F\\onnx_test\\P\\0.05961_-0.09729.jpg\n",
      "[8/20] inference outputs = tensor([[ 1.92615, -1.96162]]), pred = 0, path = D:\\List\\PK3078\\AO2201F\\onnx_test\\P\\1.88745_-1.91685.jpg\n",
      "[9/20] inference outputs = tensor([[ 0.79080, -0.86110]]), pred = 0, path = D:\\List\\PK3078\\AO2201F\\onnx_test\\P\\0.38445_-0.44149.jpg\n",
      "[10/20] inference outputs = tensor([[ 1.34498, -1.31726]]), pred = 0, path = D:\\List\\PK3078\\AO2201F\\onnx_test\\P\\0.19242_-0.13004.jpg\n",
      "[11/20] inference outputs = tensor([[ 2.01097, -2.04563]]), pred = 0, path = D:\\List\\PK3078\\AO2201F\\onnx_test\\P\\2.00409_-2.04078.jpg\n",
      "[12/20] inference outputs = tensor([[ 0.90167, -0.90117]]), pred = 0, path = D:\\List\\PK3078\\AO2201F\\onnx_test\\P\\0.46034_-0.45186.jpg\n",
      "[13/20] inference outputs = tensor([[ 2.06075, -2.02174]]), pred = 0, path = D:\\List\\PK3078\\AO2201F\\onnx_test\\P\\2.00643_-1.96702.jpg\n",
      "[14/20] inference outputs = tensor([[ 2.09898, -2.06669]]), pred = 0, path = D:\\List\\PK3078\\AO2201F\\onnx_test\\P\\1.78420_-1.73970.jpg\n",
      "[15/20] inference outputs = tensor([[ 0.31364, -0.28768]]), pred = 0, path = D:\\List\\PK3078\\AO2201F\\onnx_test\\P\\0.26594_-0.23750.jpg\n",
      "[16/20] inference outputs = tensor([[ 2.10520, -2.12262]]), pred = 0, path = D:\\List\\PK3078\\AO2201F\\onnx_test\\P\\2.02582_-2.04153.jpg\n",
      "[17/20] inference outputs = tensor([[ 0.39366, -0.37264]]), pred = 0, path = D:\\List\\PK3078\\AO2201F\\onnx_test\\P\\0.20956_-0.19882.jpg\n",
      "[18/20] inference outputs = tensor([[ 0.26904, -0.25486]]), pred = 0, path = D:\\List\\PK3078\\AO2201F\\onnx_test\\P\\0.01304_-0.00026.jpg\n",
      "[19/20] inference outputs = tensor([[ 2.24339, -2.23705]]), pred = 0, path = D:\\List\\PK3078\\AO2201F\\onnx_test\\P\\2.00399_-2.00300.jpg\n"
     ]
    }
   ],
   "source": [
    "w = r'D:\\List\\PK3078\\AO2201F\\classifier\\best.pt'\n",
    "for i in range(len(src)):\n",
    "    %run classifier_output_detect.py --folderlist {src[i]} --test_weight {w}"
   ]
  },
  {
   "cell_type": "code",
   "execution_count": null,
   "id": "fa72d69a",
   "metadata": {},
   "outputs": [],
   "source": []
  }
 ],
 "metadata": {
  "kernelspec": {
   "display_name": "Python 3 (ipykernel)",
   "language": "python",
   "name": "python3"
  },
  "language_info": {
   "codemirror_mode": {
    "name": "ipython",
    "version": 3
   },
   "file_extension": ".py",
   "mimetype": "text/x-python",
   "name": "python",
   "nbconvert_exporter": "python",
   "pygments_lexer": "ipython3",
   "version": "3.8.5"
  }
 },
 "nbformat": 4,
 "nbformat_minor": 5
}
